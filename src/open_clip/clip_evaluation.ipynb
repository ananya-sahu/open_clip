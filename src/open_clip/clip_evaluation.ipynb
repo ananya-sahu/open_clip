{
 "cells": [
  {
   "cell_type": "code",
   "execution_count": null,
   "metadata": {},
   "outputs": [],
   "source": [
    "import pickle \n",
    "import os\n",
    "def load_pkl_files_to_dict(directory):\n",
    "    mega_dict = {}\n",
    "\n",
    "    for filename in os.listdir(directory):\n",
    "        if filename.endswith('.pkl'):\n",
    "            file_path = os.path.join(directory, filename)\n",
    "            with open(file_path, 'rb') as file:\n",
    "                data = pickle.load(file)\n",
    "                if not isinstance(data, dict):\n",
    "                    raise ValueError(f\"File {filename} does not contain a dictionary.\")\n",
    "                mega_dict.update(data)\n",
    "\n",
    "    return mega_dict"
   ]
  },
  {
   "cell_type": "code",
   "execution_count": null,
   "metadata": {},
   "outputs": [],
   "source": [
    "#files in these functions are the creative captions generated at each distance\n",
    "one_train = load_pkl_files_to_dict(\"./train/one/\")\n",
    "two_train = load_pkl_files_to_dict(\"./train/two/\")\n",
    "three_train = load_pkl_files_to_dict(\"./train/three/\")\n",
    "four_train = load_pkl_files_to_dict(\"./train/four/\")\n",
    "five_train = load_pkl_files_to_dict(\"./train/five/\")\n",
    "\n",
    "\n",
    "one_val = load_pkl_files_to_dict(\"./val/one/\")\n",
    "two_val = load_pkl_files_to_dict(\"./val/two/\")\n",
    "three_val = load_pkl_files_to_dict(\"./val/three/\")\n",
    "four_val = load_pkl_files_to_dict(\"./val/four/\")\n",
    "five_val = load_pkl_files_to_dict(\"./val/five/\")\n",
    "with open(\"./train_prompts.pkl\", 'rb') as file:\n",
    "    train = pickle.load(file)\n",
    "\n",
    "with open(\"./val_prompts.pkl\", 'rb') as file:\n",
    "    val = pickle.load(file)\n",
    "    "
   ]
  },
  {
   "cell_type": "code",
   "execution_count": 3,
   "metadata": {},
   "outputs": [],
   "source": [
    "def get_image_path(subsets, og_set):\n",
    "    subset_with_image = {}\n",
    "    for subset in subsets:\n",
    "        for k in subset:\n",
    "            image_path = og_set[k][1]\n",
    "            label = og_set[k][0]\n",
    "            subset_with_image[k] = [subset[k],image_path,(label-1)] #value is a list with the caption, image path,task label\n",
    "    return subset_with_image"
   ]
  },
  {
   "cell_type": "code",
   "execution_count": 4,
   "metadata": {},
   "outputs": [],
   "source": [
    "train_all = get_image_path([one_train,two_train,three_train,four_train,five_train], train)\n",
    "val_all = get_image_path([one_val,two_val,three_val,four_val,five_val], val)"
   ]
  },
  {
   "cell_type": "code",
   "execution_count": 5,
   "metadata": {},
   "outputs": [],
   "source": [
    "def get_image_path_sub(split, dist):\n",
    "    subset = {} #key is image path, and the val is the cap \n",
    "    for k in split:\n",
    "        if split[k][2] == dist:\n",
    "            subset[split[k][1]] = split[k][0]\n",
    "    return subset\n",
    "\n",
    "train_1 = get_image_path_sub(train_all, 0)\n",
    "train_2 = get_image_path_sub(train_all, 1)\n",
    "train_3 = get_image_path_sub(train_all, 2)\n",
    "train_4 = get_image_path_sub(train_all, 3)\n",
    "train_5 = get_image_path_sub(train_all, 4)"
   ]
  },
  {
   "cell_type": "code",
   "execution_count": 6,
   "metadata": {},
   "outputs": [],
   "source": [
    "train_all_keys_present = set(train_1.keys()).intersection(set(train_2.keys()), set(train_3.keys()), set(train_4.keys()), set(train_5.keys()))"
   ]
  },
  {
   "cell_type": "code",
   "execution_count": 7,
   "metadata": {},
   "outputs": [],
   "source": [
    "#do same for val:\n",
    "def get_image_path_sub(split, dist):\n",
    "    subset = {} #key is image path, and the val is the cap \n",
    "    for k in split:\n",
    "        if split[k][2] == dist:\n",
    "            subset[split[k][1]] = split[k][0]\n",
    "    return subset\n",
    "\n",
    "val_1 = get_image_path_sub(val_all, 0)\n",
    "val_2 = get_image_path_sub(val_all, 1)\n",
    "val_3 = get_image_path_sub(val_all, 2)\n",
    "val_4 = get_image_path_sub(val_all, 3)\n",
    "val_5 = get_image_path_sub(val_all, 4)\n",
    "\n",
    "val_all_keys_present = set(val_1.keys()).intersection(set(val_2.keys()), set(val_3.keys()), set(val_4.keys()), set(val_5.keys()))\n"
   ]
  },
  {
   "cell_type": "code",
   "execution_count": 8,
   "metadata": {},
   "outputs": [],
   "source": [
    "def get_img_id(path):\n",
    "    filename = path.split(\"/\")[-1]  # Get the filename\n",
    "    number = int(filename.split(\".\")[0])  # Convert to int to remove leading zeros\n",
    "    return number\n",
    "\n"
   ]
  },
  {
   "cell_type": "code",
   "execution_count": null,
   "metadata": {},
   "outputs": [],
   "source": [
    "import json \n",
    "\n",
    "def load_coco_captions(file_path):\n",
    "  \"\"\"Loads COCO captions from a JSON file.\n",
    "\n",
    "  Args:\n",
    "    file_path: Path to the JSON file containing COCO captions.\n",
    "\n",
    "  Returns:\n",
    "    A dictionary where keys are image IDs and values are lists of captions.\n",
    "  \"\"\"\n",
    "  with open(file_path, 'r') as f:\n",
    "    data = json.load(f)\n",
    "  return data\n",
    "train_captions = load_coco_captions(\"./coco_ann2014/annotations/captions_train2014.json\")\n",
    "val_captions = load_coco_captions(\"./coco_ann2014/annotations/captions_val2014.json\")\n",
    "\n",
    "#download the foil dataset from https://foilunitn.github.io/\n",
    "foil_train_captions = load_coco_captions(\"./foilv1.0_train_2017.json\")\n",
    "foil_val_captions = load_coco_captions(\"./foilv1.0_test_2017.json\")\n"
   ]
  },
  {
   "cell_type": "code",
   "execution_count": 46,
   "metadata": {},
   "outputs": [],
   "source": [
    "from collections import defaultdict\n",
    "def get_captions_by_image_id(captions):\n",
    "    all_caps = defaultdict(list)\n",
    "    for cap in captions:\n",
    "        all_caps[cap['image_id']].append(cap['caption'])\n",
    "    \n",
    "    return all_caps\n",
    "\n",
    "def get_foil_by_image_id(captions):\n",
    "    all_caps = defaultdict(list)\n",
    "    for cap in captions:\n",
    "        if cap['foil'] == True:\n",
    "            all_caps[cap['image_id']].append(cap['caption'])\n",
    "    return all_caps\n",
    "\n",
    "train_caps_by_id = get_captions_by_image_id(train_captions['annotations'])\n",
    "val_caps_by_id = get_captions_by_image_id(val_captions['annotations'])\n",
    "foil_train_caps_by_id = get_foil_by_image_id(foil_train_captions['annotations'])\n",
    "foil_val_caps_by_id = get_foil_by_image_id(foil_val_captions['annotations'])\n"
   ]
  },
  {
   "cell_type": "code",
   "execution_count": 47,
   "metadata": {},
   "outputs": [],
   "source": [
    "#for each creative cap id, get one original cap and one foil cap in each of the set \n",
    "import random\n",
    "def get_og_foil_caps(ids, original_caps, original_foil_caps):\n",
    "    #key is image id, the val is one of the caps\n",
    "    og_caps = defaultdict(str)\n",
    "    foil_caps = defaultdict(str)\n",
    "    for id in ids:\n",
    "        image_id = get_img_id(id)\n",
    "        if (image_id in original_caps) and (image_id in original_foil_caps):\n",
    "            og_caps[id] = random.choice(original_caps[image_id])\n",
    "            foil_caps[id] = random.choice(original_foil_caps[image_id])\n",
    "\n",
    "    return og_caps, foil_caps\n",
    "\n",
    "train_og, train_foil = get_og_foil_caps(list(train_all_keys_present), train_caps_by_id, foil_train_caps_by_id)\n",
    "val_og, val_foil = get_og_foil_caps(list(val_all_keys_present), val_caps_by_id, foil_val_caps_by_id)\n"
   ]
  },
  {
   "cell_type": "code",
   "execution_count": 51,
   "metadata": {},
   "outputs": [],
   "source": [
    "def get_all(original, foils, ones, twos, threes, fours, fives):\n",
    "    images = []\n",
    "    og = []\n",
    "    foil = []\n",
    "    one = []\n",
    "    two = []\n",
    "    three = []\n",
    "    four = []\n",
    "    five = []\n",
    "    for key in original:\n",
    "        images.append(key)\n",
    "        og.append(original[key])\n",
    "        foil.append(foils[key])\n",
    "        one.append(ones[key])\n",
    "        two.append(twos[key])\n",
    "        three.append(threes[key])\n",
    "        four.append(fours[key])\n",
    "        five.append(fives[key])\n",
    "    \n",
    "    return images, og, foil, one, two, three, four, five\n",
    "timages, tog, tfoil, tone, ttwo, tthree, tfour, tfive = get_all(train_og, train_foil,train_1, train_2, train_3, train_4, train_5)\n",
    "vimages, vog, vfoil, vone, vtwo, vthree, vfour, vfive = get_all(val_og, val_foil,val_1, val_2, val_3, val_4, val_5)\n",
    "\n",
    "\n"
   ]
  },
  {
   "cell_type": "code",
   "execution_count": 52,
   "metadata": {},
   "outputs": [],
   "source": [
    "all_images = timages + vimages\n",
    "all_og = tog + vog\n",
    "all_foil = tfoil + vfoil \n",
    "all_one = tone + vone\n",
    "all_two = ttwo + vtwo\n",
    "all_three = tthree + vthree\n",
    "all_four = tfour + vfour \n",
    "all_five = tfive + vfive"
   ]
  },
  {
   "cell_type": "code",
   "execution_count": null,
   "metadata": {},
   "outputs": [],
   "source": [
    "#get the clip scores of each of these \n",
    "from tqdm import tqdm \n",
    "import torch\n",
    "from PIL import Image\n",
    "def get_text_features(texts,model, tokenizer, device, batch_size=512):\n",
    "    # Iterate over batches\n",
    "    all_text_features = []\n",
    "    for batch_start in tqdm(range(0, len(texts), batch_size), desc=\"Processing Batches\"):\n",
    "        batch_end = min(batch_start + batch_size, len(texts))\n",
    "        text_batch = texts[batch_start:batch_end]\n",
    "        # Encode text and images\n",
    "        with torch.no_grad():  # Prevent gradient computation to save memory\n",
    "            text_tokens = tokenizer(text_batch).to(device)\n",
    "            text_features = model.encode_text(text_tokens)\n",
    "            text_features /= text_features.norm(dim=-1, keepdim=True)  # Normalize\n",
    "            all_text_features.append(text_features)\n",
    "    \n",
    "    text_features = torch.cat(all_text_features, dim=0)\n",
    "    return text_features\n",
    "\n",
    "def get_image_features(images,model, preprocess, device, batch_size=512):\n",
    "    # Iterate over batches\n",
    "    all_image_features = []\n",
    "    for batch_start in tqdm(range(0, len(images), batch_size), desc=\"Processing Batches\"):\n",
    "        batch_end = min(batch_start + batch_size, len(images))\n",
    "        images_batch = images[batch_start:batch_end]\n",
    "        # Encode text and images\n",
    "        with torch.no_grad():  # Prevent gradient computation to save memory\n",
    "            images_batch = [preprocess(Image.open(file_path).convert(\"RGB\")) for file_path in images_batch]\n",
    "            image_batch = torch.stack(images_batch).to(device)  # Ensure tensor\n",
    "            image_features = model.encode_image(image_batch)  # Encode images\n",
    "            image_features /= image_features.norm(dim=-1, keepdim=True)  # Normalize\n",
    "            \n",
    "            all_image_features.append(image_features)\n",
    "    \n",
    "    img_features = torch.cat( all_image_features, dim=0)\n",
    "    return img_features\n"
   ]
  },
  {
   "cell_type": "code",
   "execution_count": 55,
   "metadata": {},
   "outputs": [
    {
     "name": "stderr",
     "output_type": "stream",
     "text": [
      "Processing Batches: 100%|██████████| 62/62 [00:33<00:00,  1.86it/s]\n",
      "Processing Batches: 100%|██████████| 62/62 [00:33<00:00,  1.87it/s]\n",
      "Processing Batches: 100%|██████████| 62/62 [00:34<00:00,  1.80it/s]\n",
      "Processing Batches: 100%|██████████| 62/62 [00:34<00:00,  1.82it/s]\n",
      "Processing Batches: 100%|██████████| 62/62 [00:34<00:00,  1.80it/s]\n",
      "Processing Batches: 100%|██████████| 62/62 [00:34<00:00,  1.80it/s]\n",
      "Processing Batches: 100%|██████████| 62/62 [00:35<00:00,  1.75it/s]\n",
      "Processing Batches: 100%|██████████| 62/62 [12:44<00:00, 12.32s/it]\n"
     ]
    }
   ],
   "source": [
    "import open_clip\n",
    "clip_model, _, preprocess = open_clip.create_model_and_transforms('ViT-B-32', pretrained='laion2b_s34b_b79k')\n",
    "tokenizer = open_clip.get_tokenizer('ViT-B-32')\n",
    "device = torch.device(\"cuda:1\" if torch.cuda.is_available() else \"cpu\")\n",
    "clip_model.to(device)\n",
    "\n",
    "og_text = get_text_features(all_og,clip_model, tokenizer, device, batch_size=1024)\n",
    "foil_text = get_text_features(all_foil,clip_model, tokenizer, device, batch_size=1024)\n",
    "one_text = get_text_features(all_one,clip_model, tokenizer, device, batch_size=1024)\n",
    "two_text = get_text_features(all_two,clip_model, tokenizer, device, batch_size=1024)\n",
    "three_text = get_text_features(all_three,clip_model, tokenizer, device, batch_size=1024)\n",
    "four_text = get_text_features(all_four,clip_model, tokenizer, device, batch_size=1024)\n",
    "five_text = get_text_features(all_five,clip_model, tokenizer, device, batch_size=1024)\n",
    "all_images = get_image_features(all_images,clip_model,preprocess, device, batch_size=1024)"
   ]
  },
  {
   "cell_type": "code",
   "execution_count": 56,
   "metadata": {},
   "outputs": [],
   "source": [
    "import torch.nn.functional as F\n",
    "def get_scores(img_features, text_features):\n",
    "    similarity_scores = F.cosine_similarity(img_features, text_features, dim=1)\n",
    "    return similarity_scores\n",
    "\n",
    "og_scores = get_scores(all_images, og_text)\n",
    "foil_scores = get_scores(all_images, foil_text)\n",
    "one_scores = get_scores(all_images, one_text)\n",
    "two_scores = get_scores(all_images, two_text)\n",
    "three_scores = get_scores(all_images, three_text)\n",
    "four_scores = get_scores(all_images, four_text)\n",
    "five_scores = get_scores(all_images, five_text)"
   ]
  },
  {
   "cell_type": "code",
   "execution_count": 57,
   "metadata": {},
   "outputs": [
    {
     "name": "stdout",
     "output_type": "stream",
     "text": [
      "avg og 0.3086344003677368\n",
      "avg foil 0.2645479440689087\n",
      "avg one 0.29562345147132874\n",
      "avg two 0.2917453646659851\n",
      "avg three 0.2826076149940491\n",
      "avg four 0.27292969822883606\n",
      "avg five 0.26016101241111755\n"
     ]
    }
   ],
   "source": [
    "print(f\"avg og {og_scores.mean()}\")\n",
    "print(f\"avg foil {foil_scores.mean()}\")\n",
    "print(f\"avg one {one_scores.mean()}\")\n",
    "print(f\"avg two {two_scores.mean()}\")\n",
    "print(f\"avg three {three_scores.mean()}\")\n",
    "print(f\"avg four {four_scores.mean()}\")\n",
    "print(f\"avg five {five_scores.mean()}\")"
   ]
  },
  {
   "cell_type": "code",
   "execution_count": 75,
   "metadata": {},
   "outputs": [],
   "source": [
    "def get_percentage_times(cap_1, cap_2):\n",
    "    #returns percentage of time cap 1  > cap 2 in scores\n",
    "    times = 0\n",
    "    for i in range(0,len(cap_1)):\n",
    "        if cap_1[i] > cap_2[i]:\n",
    "            times += 1\n",
    "    return times/len(cap_1)\n",
    "\n",
    "og_vs_one = get_percentage_times(og_scores,one_scores)\n",
    "og_vs_two = get_percentage_times(og_scores,two_scores)\n",
    "og_vs_three = get_percentage_times(og_scores,three_scores)\n",
    "og_vs_four = get_percentage_times(og_scores,four_scores)\n",
    "og_vs_five = get_percentage_times(og_scores,five_scores)"
   ]
  },
  {
   "cell_type": "code",
   "execution_count": 76,
   "metadata": {},
   "outputs": [],
   "source": [
    "foil_vs_one = get_percentage_times(foil_scores,one_scores)\n",
    "foil_vs_two = get_percentage_times(foil_scores,two_scores)\n",
    "foil_vs_three = get_percentage_times(foil_scores,three_scores)\n",
    "foil_vs_four = get_percentage_times(foil_scores,four_scores)\n",
    "foil_vs_five = get_percentage_times(foil_scores,five_scores)"
   ]
  },
  {
   "cell_type": "code",
   "execution_count": 77,
   "metadata": {},
   "outputs": [],
   "source": [
    "og_vs_foil = get_percentage_times(og_scores,foil_scores)"
   ]
  },
  {
   "cell_type": "code",
   "execution_count": 93,
   "metadata": {},
   "outputs": [],
   "source": [
    "foil_vs_og = get_percentage_times(foil_scores,og_scores)"
   ]
  },
  {
   "cell_type": "code",
   "execution_count": 95,
   "metadata": {},
   "outputs": [
    {
     "data": {
      "image/png": "[encoded data removed]",
      "text/plain": [
       "<Figure size 640x480 with 1 Axes>"
      ]
     },
     "metadata": {},
     "output_type": "display_data"
    }
   ],
   "source": [
    "import matplotlib.pyplot as plt\n",
    "import numpy as np\n",
    "\n",
    "# Sample data\n",
    "og_plots= [og_vs_foil,og_vs_one, og_vs_two, og_vs_three, og_vs_four, og_vs_five]\n",
    "foil_plots = [foil_vs_og,foil_vs_one, foil_vs_two, foil_vs_three, foil_vs_four, foil_vs_five]\n",
    "colors = ['#D98880', '#85C1E9', '#85C1E9', '#85C1E9', '#85C1E9','#85C1E9'] \n",
    "labels = [\"Foil Caption\", \"Distance 1\", \"Distance 2\", \n",
    "          \"Distance 3\", \"Distance 4\",\"Distance 5\"]\n",
    "\n",
    "\n",
    "# Create the bar graph\n",
    "plt.bar(labels, og_plots, color=colors)\n",
    "\n",
    "# Add labels and title\n",
    "plt.ylabel(\"Percentage\")\n",
    "plt.title(\"Percentage of Original Captions Score Higher Than Creative Captions at Varying Distances\")\n",
    "plt.xticks(rotation=45) \n",
    "# Show the plot\n",
    "plt.show()\n"
   ]
  },
  {
   "cell_type": "code",
   "execution_count": 96,
   "metadata": {},
   "outputs": [
    {
     "data": {
      "image/png": "[encoded data removed]",
      "text/plain": [
       "<Figure size 640x480 with 1 Axes>"
      ]
     },
     "metadata": {},
     "output_type": "display_data"
    }
   ],
   "source": [
    "# Sample data\n",
    "colors = ['#D98880','#A3CFA2', '#A3CFA2', '#A3CFA2', '#A3CFA2', '#A3CFA2','#A3CFA2'] \n",
    "labels = [\"Original Caption\",\"Distance 1\", \"Distance 2\", \n",
    "          \"Distance 3\", \"Distance 4\",\"Distance 5\"]\n",
    "\n",
    "\n",
    "# Create the bar graph\n",
    "plt.bar(labels, foil_plots, color=colors)\n",
    "\n",
    "# Add labels and title\n",
    "plt.ylabel(\"Percentage\")\n",
    "plt.title(\"Percentage of Foil Captions Score Higher Than Creative Captions at Varying Distances\")\n",
    "plt.xticks(rotation=45) \n",
    "# Show the plot\n",
    "plt.show()"
   ]
  }
 ],
 "metadata": {
  "kernelspec": {
   "display_name": "ananya_captions",
   "language": "python",
   "name": "python3"
  },
  "language_info": {
   "codemirror_mode": {
    "name": "ipython",
    "version": 3
   },
   "file_extension": ".py",
   "mimetype": "text/x-python",
   "name": "python",
   "nbconvert_exporter": "python",
   "pygments_lexer": "ipython3",
   "version": "3.10.15"
  }
 },
 "nbformat": 4,
 "nbformat_minor": 2
}
